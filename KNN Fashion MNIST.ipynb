{
 "cells": [
  {
   "cell_type": "code",
   "execution_count": 1,
   "metadata": {},
   "outputs": [],
   "source": [
    "import numpy as np # linear algebra\n",
    "import pandas as pd # data processing, CSV file I/O (e.g. pd.read_csv)"
   ]
  },
  {
   "cell_type": "code",
   "execution_count": 2,
   "metadata": {},
   "outputs": [],
   "source": [
    "from sklearn.neighbors import KNeighborsClassifier\n",
    "from sklearn.metrics import accuracy_score"
   ]
  },
  {
   "cell_type": "code",
   "execution_count": 3,
   "metadata": {},
   "outputs": [],
   "source": [
    "df = pd.read_csv('fashiondata/fashion-mnist_train.csv', dtype=int) # read train data\n",
    "dft = pd.read_csv('fashiondata/fashion-mnist_test.csv', dtype=int) # read test data"
   ]
  },
  {
   "cell_type": "code",
   "execution_count": 4,
   "metadata": {},
   "outputs": [],
   "source": [
    "X_train = df.drop('label', axis=1)\n",
    "y_train = df['label']\n",
    "X_test = dft.drop('label', axis=1)\n",
    "y_test = dft['label']"
   ]
  },
  {
   "cell_type": "code",
   "execution_count": 5,
   "metadata": {},
   "outputs": [
    {
     "name": "stdout",
     "output_type": "stream",
     "text": [
      "0.8553\n"
     ]
    }
   ],
   "source": [
    "knn = KNeighborsClassifier(n_neighbors=12, weights='uniform', p=2)\n",
    "knn.fit(X_train, y_train)\n",
    "\n",
    "# Predict\n",
    "y_pred = knn.predict(X_test)\n",
    "\n",
    "# Print result\n",
    "print(accuracy_score(y_test, y_pred))"
   ]
  },
  {
   "cell_type": "markdown",
   "metadata": {},
   "source": [
    "Tuning n_neighbors"
   ]
  },
  {
   "cell_type": "code",
   "execution_count": 6,
   "metadata": {},
   "outputs": [
    {
     "name": "stdout",
     "output_type": "stream",
     "text": [
      "n_neighbors=3, weights='uniform', p=2\n",
      "0.8584 \n",
      "\n"
     ]
    }
   ],
   "source": [
    "knn = KNeighborsClassifier(n_neighbors=3, weights='uniform', p=2)\n",
    "knn.fit(X_train, y_train)\n",
    "# Predict\n",
    "y_pred = knn.predict(X_test)\n",
    "# Print result\n",
    "print(\"n_neighbors=3, weights='uniform', p=2\")\n",
    "print(accuracy_score(y_test, y_pred),\"\\n\")"
   ]
  },
  {
   "cell_type": "code",
   "execution_count": 7,
   "metadata": {},
   "outputs": [
    {
     "name": "stdout",
     "output_type": "stream",
     "text": [
      "n_neighbors=5, weights='uniform', p=2\n",
      "0.8589 \n",
      "\n"
     ]
    }
   ],
   "source": [
    "knn = KNeighborsClassifier(n_neighbors=5, weights='uniform', p=2)\n",
    "knn.fit(X_train, y_train)\n",
    "# Predict\n",
    "y_pred = knn.predict(X_test)\n",
    "# Print result\n",
    "print(\"n_neighbors=5, weights='uniform', p=2\")\n",
    "print(accuracy_score(y_test, y_pred),\"\\n\")"
   ]
  },
  {
   "cell_type": "code",
   "execution_count": 8,
   "metadata": {},
   "outputs": [
    {
     "name": "stdout",
     "output_type": "stream",
     "text": [
      "n_neighbors=7, weights='uniform', p=2\n",
      "0.8558 \n",
      "\n"
     ]
    }
   ],
   "source": [
    "knn = KNeighborsClassifier(n_neighbors=7, weights='uniform', p=2)\n",
    "knn.fit(X_train, y_train)\n",
    "# Predict\n",
    "y_pred = knn.predict(X_test)\n",
    "# Print result\n",
    "print(\"n_neighbors=7, weights='uniform', p=2\")\n",
    "print(accuracy_score(y_test, y_pred),\"\\n\")"
   ]
  },
  {
   "cell_type": "code",
   "execution_count": 9,
   "metadata": {},
   "outputs": [
    {
     "name": "stdout",
     "output_type": "stream",
     "text": [
      "n_neighbors=10, weights='uniform', p=2\n",
      "0.8573 \n",
      "\n"
     ]
    }
   ],
   "source": [
    "knn = KNeighborsClassifier(n_neighbors=10, weights='uniform', p=2)\n",
    "knn.fit(X_train, y_train)\n",
    "# Predict\n",
    "y_pred = knn.predict(X_test)\n",
    "# Print result\n",
    "print(\"n_neighbors=10, weights='uniform', p=2\")\n",
    "print(accuracy_score(y_test, y_pred),\"\\n\")"
   ]
  },
  {
   "cell_type": "code",
   "execution_count": 10,
   "metadata": {},
   "outputs": [
    {
     "name": "stdout",
     "output_type": "stream",
     "text": [
      "n_neighbors=12, weights='uniform', p=2\n",
      "0.8553 \n",
      "\n"
     ]
    }
   ],
   "source": [
    "knn = KNeighborsClassifier(n_neighbors=12, weights='uniform', p=2)\n",
    "knn.fit(X_train, y_train)\n",
    "# Predict\n",
    "y_pred = knn.predict(X_test)\n",
    "# Print result\n",
    "print(\"n_neighbors=12, weights='uniform', p=2\")\n",
    "print(accuracy_score(y_test, y_pred),\"\\n\")"
   ]
  },
  {
   "cell_type": "code",
   "execution_count": 11,
   "metadata": {},
   "outputs": [
    {
     "name": "stdout",
     "output_type": "stream",
     "text": [
      "n_neighbors=15, weights='uniform', p=2\n",
      "0.8514 \n",
      "\n"
     ]
    }
   ],
   "source": [
    "knn = KNeighborsClassifier(n_neighbors=15, weights='uniform', p=2)\n",
    "knn.fit(X_train, y_train)\n",
    "# Predict\n",
    "y_pred = knn.predict(X_test)\n",
    "# Print result\n",
    "print(\"n_neighbors=15, weights='uniform', p=2\")\n",
    "print(accuracy_score(y_test, y_pred),\"\\n\")"
   ]
  },
  {
   "cell_type": "code",
   "execution_count": 12,
   "metadata": {},
   "outputs": [
    {
     "name": "stdout",
     "output_type": "stream",
     "text": [
      "n_neighbors=20, weights='uniform', p=2\n",
      "0.8474 \n",
      "\n"
     ]
    }
   ],
   "source": [
    "knn = KNeighborsClassifier(n_neighbors=20, weights='uniform', p=2)\n",
    "knn.fit(X_train, y_train)\n",
    "# Predict\n",
    "y_pred = knn.predict(X_test)\n",
    "# Print result\n",
    "print(\"n_neighbors=20, weights='uniform', p=2\")\n",
    "print(accuracy_score(y_test, y_pred),\"\\n\")"
   ]
  },
  {
   "cell_type": "code",
   "execution_count": 13,
   "metadata": {},
   "outputs": [
    {
     "name": "stdout",
     "output_type": "stream",
     "text": [
      "n_neighbors=25, weights='uniform', p=2\n",
      "0.8434 \n",
      "\n"
     ]
    }
   ],
   "source": [
    "knn = KNeighborsClassifier(n_neighbors=25, weights='uniform', p=2)\n",
    "knn.fit(X_train, y_train)\n",
    "# Predict\n",
    "y_pred = knn.predict(X_test)\n",
    "# Print result\n",
    "print(\"n_neighbors=25, weights='uniform', p=2\")\n",
    "print(accuracy_score(y_test, y_pred),\"\\n\")"
   ]
  },
  {
   "cell_type": "markdown",
   "metadata": {},
   "source": [
    "Tuning weights"
   ]
  },
  {
   "cell_type": "code",
   "execution_count": 14,
   "metadata": {},
   "outputs": [
    {
     "name": "stdout",
     "output_type": "stream",
     "text": [
      "n_neighbors=5, weights='uniform', p=2\n",
      "0.8589 \n",
      "\n"
     ]
    }
   ],
   "source": [
    "knn = KNeighborsClassifier(n_neighbors=5, weights='uniform', p=2)\n",
    "knn.fit(X_train, y_train)\n",
    "# Predict\n",
    "y_pred = knn.predict(X_test)\n",
    "# Print result\n",
    "print(\"n_neighbors=5, weights='uniform', p=2\")\n",
    "print(accuracy_score(y_test, y_pred),\"\\n\")"
   ]
  },
  {
   "cell_type": "code",
   "execution_count": 15,
   "metadata": {},
   "outputs": [
    {
     "name": "stdout",
     "output_type": "stream",
     "text": [
      "n_neighbors=5, weights='uniform', p=2\n",
      "0.8611 \n",
      "\n"
     ]
    }
   ],
   "source": [
    "knn = KNeighborsClassifier(n_neighbors=5, weights='distance', p=2)\n",
    "knn.fit(X_train, y_train)\n",
    "# Predict\n",
    "y_pred = knn.predict(X_test)\n",
    "# Print result\n",
    "print(\"n_neighbors=5, weights='distance', p=2\")\n",
    "print(accuracy_score(y_test, y_pred),\"\\n\")"
   ]
  },
  {
   "cell_type": "markdown",
   "metadata": {},
   "source": [
    "Tuning p"
   ]
  },
  {
   "cell_type": "code",
   "execution_count": 16,
   "metadata": {},
   "outputs": [
    {
     "name": "stdout",
     "output_type": "stream",
     "text": [
      "n_neighbors=5, weights='uniform', p=1\n",
      "0.8671 \n",
      "\n"
     ]
    }
   ],
   "source": [
    "knn = KNeighborsClassifier(n_neighbors=5, weights='distance', p=1)\n",
    "knn.fit(X_train, y_train)\n",
    "# Predict\n",
    "y_pred = knn.predict(X_test)\n",
    "# Print result\n",
    "print(\"n_neighbors=5, weights='uniform', p=1\")\n",
    "print(accuracy_score(y_test, y_pred),\"\\n\")"
   ]
  },
  {
   "cell_type": "code",
   "execution_count": 18,
   "metadata": {},
   "outputs": [
    {
     "name": "stdout",
     "output_type": "stream",
     "text": [
      "n_neighbors=5, weights='uniform', p=2\n",
      "0.8611 \n",
      "\n"
     ]
    }
   ],
   "source": [
    "knn = KNeighborsClassifier(n_neighbors=5, weights='distance', p=2)\n",
    "knn.fit(X_train, y_train)\n",
    "# Predict\n",
    "y_pred = knn.predict(X_test)\n",
    "# Print result\n",
    "print(\"n_neighbors=5, weights='uniform', p=2\")\n",
    "print(accuracy_score(y_test, y_pred),\"\\n\")"
   ]
  },
  {
   "cell_type": "code",
   "execution_count": 19,
   "metadata": {},
   "outputs": [
    {
     "name": "stdout",
     "output_type": "stream",
     "text": [
      "n_neighbors=5, weights='uniform', p=3\n",
      "0.8493 \n",
      "\n"
     ]
    }
   ],
   "source": [
    "knn = KNeighborsClassifier(n_neighbors=5, weights='distance', p=3)\n",
    "knn.fit(X_train, y_train)\n",
    "# Predict\n",
    "y_pred = knn.predict(X_test)\n",
    "# Print result\n",
    "print(\"n_neighbors=5, weights='uniform', p=3\")\n",
    "print(accuracy_score(y_test, y_pred),\"\\n\")"
   ]
  },
  {
   "cell_type": "code",
   "execution_count": 20,
   "metadata": {},
   "outputs": [
    {
     "name": "stdout",
     "output_type": "stream",
     "text": [
      "n_neighbors=5, weights='uniform', p=4\n",
      "0.8321 \n",
      "\n"
     ]
    }
   ],
   "source": [
    "knn = KNeighborsClassifier(n_neighbors=5, weights='distance', p=4)\n",
    "knn.fit(X_train, y_train)\n",
    "# Predict\n",
    "y_pred = knn.predict(X_test)\n",
    "# Print result\n",
    "print(\"n_neighbors=5, weights='uniform', p=4\")\n",
    "print(accuracy_score(y_test, y_pred),\"\\n\")"
   ]
  },
  {
   "cell_type": "code",
   "execution_count": 21,
   "metadata": {},
   "outputs": [
    {
     "name": "stdout",
     "output_type": "stream",
     "text": [
      "n_neighbors=5, weights='uniform', p=5\n",
      "0.814 \n",
      "\n"
     ]
    }
   ],
   "source": [
    "knn = KNeighborsClassifier(n_neighbors=5, weights='distance', p=5)\n",
    "knn.fit(X_train, y_train)\n",
    "# Predict\n",
    "y_pred = knn.predict(X_test)\n",
    "# Print result\n",
    "print(\"n_neighbors=5, weights='uniform', p=5\")\n",
    "print(accuracy_score(y_test, y_pred),\"\\n\")"
   ]
  },
  {
   "cell_type": "code",
   "execution_count": null,
   "metadata": {},
   "outputs": [],
   "source": []
  }
 ],
 "metadata": {
  "kernelspec": {
   "display_name": "Python 3",
   "language": "python",
   "name": "python3"
  },
  "language_info": {
   "codemirror_mode": {
    "name": "ipython",
    "version": 3
   },
   "file_extension": ".py",
   "mimetype": "text/x-python",
   "name": "python",
   "nbconvert_exporter": "python",
   "pygments_lexer": "ipython3",
   "version": "3.7.9"
  }
 },
 "nbformat": 4,
 "nbformat_minor": 4
}
