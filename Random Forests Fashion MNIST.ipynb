{
 "cells": [
  {
   "cell_type": "code",
   "execution_count": 1,
   "metadata": {},
   "outputs": [],
   "source": [
    "import numpy as np # linear algebra\n",
    "import pandas as pd # data processing, CSV file I/O (e.g. pd.read_csv)"
   ]
  },
  {
   "cell_type": "code",
   "execution_count": 2,
   "metadata": {},
   "outputs": [],
   "source": [
    "from sklearn.ensemble import RandomForestClassifier\n",
    "from sklearn.metrics import accuracy_score"
   ]
  },
  {
   "cell_type": "code",
   "execution_count": 3,
   "metadata": {},
   "outputs": [],
   "source": [
    "df = pd.read_csv('fashiondata/fashion-mnist_train.csv', dtype=int) # read train data\n",
    "dft = pd.read_csv('fashiondata/fashion-mnist_test.csv', dtype=int) # read test data"
   ]
  },
  {
   "cell_type": "code",
   "execution_count": 4,
   "metadata": {},
   "outputs": [
    {
     "data": {
      "text/html": [
       "<div>\n",
       "<style scoped>\n",
       "    .dataframe tbody tr th:only-of-type {\n",
       "        vertical-align: middle;\n",
       "    }\n",
       "\n",
       "    .dataframe tbody tr th {\n",
       "        vertical-align: top;\n",
       "    }\n",
       "\n",
       "    .dataframe thead th {\n",
       "        text-align: right;\n",
       "    }\n",
       "</style>\n",
       "<table border=\"1\" class=\"dataframe\">\n",
       "  <thead>\n",
       "    <tr style=\"text-align: right;\">\n",
       "      <th></th>\n",
       "      <th>label</th>\n",
       "      <th>pixel1</th>\n",
       "      <th>pixel2</th>\n",
       "      <th>pixel3</th>\n",
       "      <th>pixel4</th>\n",
       "      <th>pixel5</th>\n",
       "      <th>pixel6</th>\n",
       "      <th>pixel7</th>\n",
       "      <th>pixel8</th>\n",
       "      <th>pixel9</th>\n",
       "      <th>...</th>\n",
       "      <th>pixel775</th>\n",
       "      <th>pixel776</th>\n",
       "      <th>pixel777</th>\n",
       "      <th>pixel778</th>\n",
       "      <th>pixel779</th>\n",
       "      <th>pixel780</th>\n",
       "      <th>pixel781</th>\n",
       "      <th>pixel782</th>\n",
       "      <th>pixel783</th>\n",
       "      <th>pixel784</th>\n",
       "    </tr>\n",
       "  </thead>\n",
       "  <tbody>\n",
       "    <tr>\n",
       "      <th>0</th>\n",
       "      <td>0</td>\n",
       "      <td>0</td>\n",
       "      <td>0</td>\n",
       "      <td>0</td>\n",
       "      <td>0</td>\n",
       "      <td>0</td>\n",
       "      <td>0</td>\n",
       "      <td>0</td>\n",
       "      <td>9</td>\n",
       "      <td>8</td>\n",
       "      <td>...</td>\n",
       "      <td>103</td>\n",
       "      <td>87</td>\n",
       "      <td>56</td>\n",
       "      <td>0</td>\n",
       "      <td>0</td>\n",
       "      <td>0</td>\n",
       "      <td>0</td>\n",
       "      <td>0</td>\n",
       "      <td>0</td>\n",
       "      <td>0</td>\n",
       "    </tr>\n",
       "    <tr>\n",
       "      <th>1</th>\n",
       "      <td>1</td>\n",
       "      <td>0</td>\n",
       "      <td>0</td>\n",
       "      <td>0</td>\n",
       "      <td>0</td>\n",
       "      <td>0</td>\n",
       "      <td>0</td>\n",
       "      <td>0</td>\n",
       "      <td>0</td>\n",
       "      <td>0</td>\n",
       "      <td>...</td>\n",
       "      <td>34</td>\n",
       "      <td>0</td>\n",
       "      <td>0</td>\n",
       "      <td>0</td>\n",
       "      <td>0</td>\n",
       "      <td>0</td>\n",
       "      <td>0</td>\n",
       "      <td>0</td>\n",
       "      <td>0</td>\n",
       "      <td>0</td>\n",
       "    </tr>\n",
       "    <tr>\n",
       "      <th>2</th>\n",
       "      <td>2</td>\n",
       "      <td>0</td>\n",
       "      <td>0</td>\n",
       "      <td>0</td>\n",
       "      <td>0</td>\n",
       "      <td>0</td>\n",
       "      <td>0</td>\n",
       "      <td>14</td>\n",
       "      <td>53</td>\n",
       "      <td>99</td>\n",
       "      <td>...</td>\n",
       "      <td>0</td>\n",
       "      <td>0</td>\n",
       "      <td>0</td>\n",
       "      <td>0</td>\n",
       "      <td>63</td>\n",
       "      <td>53</td>\n",
       "      <td>31</td>\n",
       "      <td>0</td>\n",
       "      <td>0</td>\n",
       "      <td>0</td>\n",
       "    </tr>\n",
       "    <tr>\n",
       "      <th>3</th>\n",
       "      <td>2</td>\n",
       "      <td>0</td>\n",
       "      <td>0</td>\n",
       "      <td>0</td>\n",
       "      <td>0</td>\n",
       "      <td>0</td>\n",
       "      <td>0</td>\n",
       "      <td>0</td>\n",
       "      <td>0</td>\n",
       "      <td>0</td>\n",
       "      <td>...</td>\n",
       "      <td>137</td>\n",
       "      <td>126</td>\n",
       "      <td>140</td>\n",
       "      <td>0</td>\n",
       "      <td>133</td>\n",
       "      <td>224</td>\n",
       "      <td>222</td>\n",
       "      <td>56</td>\n",
       "      <td>0</td>\n",
       "      <td>0</td>\n",
       "    </tr>\n",
       "    <tr>\n",
       "      <th>4</th>\n",
       "      <td>3</td>\n",
       "      <td>0</td>\n",
       "      <td>0</td>\n",
       "      <td>0</td>\n",
       "      <td>0</td>\n",
       "      <td>0</td>\n",
       "      <td>0</td>\n",
       "      <td>0</td>\n",
       "      <td>0</td>\n",
       "      <td>0</td>\n",
       "      <td>...</td>\n",
       "      <td>0</td>\n",
       "      <td>0</td>\n",
       "      <td>0</td>\n",
       "      <td>0</td>\n",
       "      <td>0</td>\n",
       "      <td>0</td>\n",
       "      <td>0</td>\n",
       "      <td>0</td>\n",
       "      <td>0</td>\n",
       "      <td>0</td>\n",
       "    </tr>\n",
       "    <tr>\n",
       "      <th>...</th>\n",
       "      <td>...</td>\n",
       "      <td>...</td>\n",
       "      <td>...</td>\n",
       "      <td>...</td>\n",
       "      <td>...</td>\n",
       "      <td>...</td>\n",
       "      <td>...</td>\n",
       "      <td>...</td>\n",
       "      <td>...</td>\n",
       "      <td>...</td>\n",
       "      <td>...</td>\n",
       "      <td>...</td>\n",
       "      <td>...</td>\n",
       "      <td>...</td>\n",
       "      <td>...</td>\n",
       "      <td>...</td>\n",
       "      <td>...</td>\n",
       "      <td>...</td>\n",
       "      <td>...</td>\n",
       "      <td>...</td>\n",
       "      <td>...</td>\n",
       "    </tr>\n",
       "    <tr>\n",
       "      <th>9995</th>\n",
       "      <td>0</td>\n",
       "      <td>0</td>\n",
       "      <td>0</td>\n",
       "      <td>0</td>\n",
       "      <td>0</td>\n",
       "      <td>0</td>\n",
       "      <td>0</td>\n",
       "      <td>0</td>\n",
       "      <td>0</td>\n",
       "      <td>0</td>\n",
       "      <td>...</td>\n",
       "      <td>32</td>\n",
       "      <td>23</td>\n",
       "      <td>14</td>\n",
       "      <td>20</td>\n",
       "      <td>0</td>\n",
       "      <td>0</td>\n",
       "      <td>1</td>\n",
       "      <td>0</td>\n",
       "      <td>0</td>\n",
       "      <td>0</td>\n",
       "    </tr>\n",
       "    <tr>\n",
       "      <th>9996</th>\n",
       "      <td>6</td>\n",
       "      <td>0</td>\n",
       "      <td>0</td>\n",
       "      <td>0</td>\n",
       "      <td>0</td>\n",
       "      <td>0</td>\n",
       "      <td>0</td>\n",
       "      <td>0</td>\n",
       "      <td>0</td>\n",
       "      <td>0</td>\n",
       "      <td>...</td>\n",
       "      <td>0</td>\n",
       "      <td>0</td>\n",
       "      <td>0</td>\n",
       "      <td>2</td>\n",
       "      <td>52</td>\n",
       "      <td>23</td>\n",
       "      <td>28</td>\n",
       "      <td>0</td>\n",
       "      <td>0</td>\n",
       "      <td>0</td>\n",
       "    </tr>\n",
       "    <tr>\n",
       "      <th>9997</th>\n",
       "      <td>8</td>\n",
       "      <td>0</td>\n",
       "      <td>0</td>\n",
       "      <td>0</td>\n",
       "      <td>0</td>\n",
       "      <td>0</td>\n",
       "      <td>0</td>\n",
       "      <td>0</td>\n",
       "      <td>0</td>\n",
       "      <td>0</td>\n",
       "      <td>...</td>\n",
       "      <td>175</td>\n",
       "      <td>172</td>\n",
       "      <td>172</td>\n",
       "      <td>182</td>\n",
       "      <td>199</td>\n",
       "      <td>222</td>\n",
       "      <td>42</td>\n",
       "      <td>0</td>\n",
       "      <td>1</td>\n",
       "      <td>0</td>\n",
       "    </tr>\n",
       "    <tr>\n",
       "      <th>9998</th>\n",
       "      <td>8</td>\n",
       "      <td>0</td>\n",
       "      <td>1</td>\n",
       "      <td>3</td>\n",
       "      <td>0</td>\n",
       "      <td>0</td>\n",
       "      <td>0</td>\n",
       "      <td>0</td>\n",
       "      <td>0</td>\n",
       "      <td>0</td>\n",
       "      <td>...</td>\n",
       "      <td>0</td>\n",
       "      <td>0</td>\n",
       "      <td>0</td>\n",
       "      <td>0</td>\n",
       "      <td>0</td>\n",
       "      <td>1</td>\n",
       "      <td>0</td>\n",
       "      <td>0</td>\n",
       "      <td>0</td>\n",
       "      <td>0</td>\n",
       "    </tr>\n",
       "    <tr>\n",
       "      <th>9999</th>\n",
       "      <td>1</td>\n",
       "      <td>0</td>\n",
       "      <td>0</td>\n",
       "      <td>0</td>\n",
       "      <td>0</td>\n",
       "      <td>0</td>\n",
       "      <td>0</td>\n",
       "      <td>0</td>\n",
       "      <td>140</td>\n",
       "      <td>119</td>\n",
       "      <td>...</td>\n",
       "      <td>111</td>\n",
       "      <td>95</td>\n",
       "      <td>75</td>\n",
       "      <td>44</td>\n",
       "      <td>1</td>\n",
       "      <td>0</td>\n",
       "      <td>0</td>\n",
       "      <td>0</td>\n",
       "      <td>0</td>\n",
       "      <td>0</td>\n",
       "    </tr>\n",
       "  </tbody>\n",
       "</table>\n",
       "<p>10000 rows × 785 columns</p>\n",
       "</div>"
      ],
      "text/plain": [
       "      label  pixel1  pixel2  pixel3  pixel4  pixel5  pixel6  pixel7  pixel8  \\\n",
       "0         0       0       0       0       0       0       0       0       9   \n",
       "1         1       0       0       0       0       0       0       0       0   \n",
       "2         2       0       0       0       0       0       0      14      53   \n",
       "3         2       0       0       0       0       0       0       0       0   \n",
       "4         3       0       0       0       0       0       0       0       0   \n",
       "...     ...     ...     ...     ...     ...     ...     ...     ...     ...   \n",
       "9995      0       0       0       0       0       0       0       0       0   \n",
       "9996      6       0       0       0       0       0       0       0       0   \n",
       "9997      8       0       0       0       0       0       0       0       0   \n",
       "9998      8       0       1       3       0       0       0       0       0   \n",
       "9999      1       0       0       0       0       0       0       0     140   \n",
       "\n",
       "      pixel9  ...  pixel775  pixel776  pixel777  pixel778  pixel779  pixel780  \\\n",
       "0          8  ...       103        87        56         0         0         0   \n",
       "1          0  ...        34         0         0         0         0         0   \n",
       "2         99  ...         0         0         0         0        63        53   \n",
       "3          0  ...       137       126       140         0       133       224   \n",
       "4          0  ...         0         0         0         0         0         0   \n",
       "...      ...  ...       ...       ...       ...       ...       ...       ...   \n",
       "9995       0  ...        32        23        14        20         0         0   \n",
       "9996       0  ...         0         0         0         2        52        23   \n",
       "9997       0  ...       175       172       172       182       199       222   \n",
       "9998       0  ...         0         0         0         0         0         1   \n",
       "9999     119  ...       111        95        75        44         1         0   \n",
       "\n",
       "      pixel781  pixel782  pixel783  pixel784  \n",
       "0            0         0         0         0  \n",
       "1            0         0         0         0  \n",
       "2           31         0         0         0  \n",
       "3          222        56         0         0  \n",
       "4            0         0         0         0  \n",
       "...        ...       ...       ...       ...  \n",
       "9995         1         0         0         0  \n",
       "9996        28         0         0         0  \n",
       "9997        42         0         1         0  \n",
       "9998         0         0         0         0  \n",
       "9999         0         0         0         0  \n",
       "\n",
       "[10000 rows x 785 columns]"
      ]
     },
     "execution_count": 4,
     "metadata": {},
     "output_type": "execute_result"
    }
   ],
   "source": [
    "dft"
   ]
  },
  {
   "cell_type": "code",
   "execution_count": 5,
   "metadata": {},
   "outputs": [],
   "source": [
    "X_train = df.drop('label', axis=1)\n",
    "y_train = df['label']\n",
    "X_test = dft.drop('label', axis=1)\n",
    "y_test = dft['label']"
   ]
  },
  {
   "cell_type": "code",
   "execution_count": 6,
   "metadata": {},
   "outputs": [
    {
     "name": "stdout",
     "output_type": "stream",
     "text": [
      "n_estimators=500, max_depth=None, min_samples_split=2, min_samples_leaf=1,  max_features='auto', bootstrap=True, oob_score=False, class_weight=None, n_jobs=-1\n",
      "0.8863\n"
     ]
    }
   ],
   "source": [
    "model = RandomForestClassifier(\n",
    "    n_estimators=500, max_depth=None, min_samples_split=2, min_samples_leaf=1, \n",
    "    max_features='auto', bootstrap=True, oob_score=False, class_weight=None, n_jobs=-1) # 0.8827, 29 seconds\n",
    "\n",
    "model.fit(X_train, y_train.values.ravel())\n",
    "# Predict\n",
    "y_pred = model.predict(X_test)\n",
    "# Print result\n",
    "print(\"n_estimators=500, max_depth=None, min_samples_split=2, min_samples_leaf=1, \",\n",
    "    \"max_features='auto', bootstrap=True, oob_score=False, class_weight=None, n_jobs=-1\")\n",
    "print(accuracy_score(y_test, y_pred))"
   ]
  },
  {
   "cell_type": "markdown",
   "metadata": {},
   "source": [
    "Tuning n_estimators"
   ]
  },
  {
   "cell_type": "code",
   "execution_count": 7,
   "metadata": {},
   "outputs": [
    {
     "name": "stdout",
     "output_type": "stream",
     "text": [
      "n_estimators=20, max_depth=None, min_samples_split=2, min_samples_leaf=1,  max_features='auto', bootstrap=True, oob_score=False, class_weight=None, n_jobs=-1\n",
      "0.8756\n"
     ]
    }
   ],
   "source": [
    "model = RandomForestClassifier(\n",
    "    n_estimators=20, max_depth=None, min_samples_split=2, min_samples_leaf=1, \n",
    "    max_features='auto', bootstrap=True, oob_score=False, class_weight=None, n_jobs=-1) # 0.8827, 29 seconds\n",
    "\n",
    "model.fit(X_train, y_train.values.ravel())\n",
    "# Predict\n",
    "y_pred = model.predict(X_test)\n",
    "# Print result\n",
    "print(\"n_estimators=20, max_depth=None, min_samples_split=2, min_samples_leaf=1, \",\n",
    "    \"max_features='auto', bootstrap=True, oob_score=False, class_weight=None, n_jobs=-1\")\n",
    "print(accuracy_score(y_test, y_pred))"
   ]
  },
  {
   "cell_type": "code",
   "execution_count": 8,
   "metadata": {},
   "outputs": [
    {
     "name": "stdout",
     "output_type": "stream",
     "text": [
      "n_estimators=50, max_depth=None, min_samples_split=2, min_samples_leaf=1,  max_features='auto', bootstrap=True, oob_score=False, class_weight=None, n_jobs=-1\n",
      "0.8827\n"
     ]
    }
   ],
   "source": [
    "model = RandomForestClassifier(\n",
    "    n_estimators=50, max_depth=None, min_samples_split=2, min_samples_leaf=1, \n",
    "    max_features='auto', bootstrap=True, oob_score=False, class_weight=None, n_jobs=-1) # 0.8827, 29 seconds\n",
    "\n",
    "model.fit(X_train, y_train.values.ravel())\n",
    "# Predict\n",
    "y_pred = model.predict(X_test)\n",
    "# Print result\n",
    "print(\"n_estimators=50, max_depth=None, min_samples_split=2, min_samples_leaf=1, \",\n",
    "    \"max_features='auto', bootstrap=True, oob_score=False, class_weight=None, n_jobs=-1\")\n",
    "print(accuracy_score(y_test, y_pred))"
   ]
  },
  {
   "cell_type": "code",
   "execution_count": 9,
   "metadata": {},
   "outputs": [
    {
     "name": "stdout",
     "output_type": "stream",
     "text": [
      "n_estimators=100, max_depth=None, min_samples_split=2, min_samples_leaf=1,  max_features='auto', bootstrap=True, oob_score=False, class_weight=None, n_jobs=-1\n",
      "0.8862\n"
     ]
    }
   ],
   "source": [
    "model = RandomForestClassifier(\n",
    "    n_estimators=100, max_depth=None, min_samples_split=2, min_samples_leaf=1, \n",
    "    max_features='auto', bootstrap=True, oob_score=False, class_weight=None, n_jobs=-1) # 0.8827, 29 seconds\n",
    "\n",
    "model.fit(X_train, y_train.values.ravel())\n",
    "# Predict\n",
    "y_pred = model.predict(X_test)\n",
    "# Print result\n",
    "print(\"n_estimators=100, max_depth=None, min_samples_split=2, min_samples_leaf=1, \",\n",
    "    \"max_features='auto', bootstrap=True, oob_score=False, class_weight=None, n_jobs=-1\")\n",
    "print(accuracy_score(y_test, y_pred))"
   ]
  },
  {
   "cell_type": "code",
   "execution_count": 10,
   "metadata": {},
   "outputs": [
    {
     "name": "stdout",
     "output_type": "stream",
     "text": [
      "n_estimators=150, max_depth=None, min_samples_split=2, min_samples_leaf=1,  max_features='auto', bootstrap=True, oob_score=False, class_weight=None, n_jobs=-1\n",
      "0.8855\n"
     ]
    }
   ],
   "source": [
    "model = RandomForestClassifier(\n",
    "    n_estimators=150, max_depth=None, min_samples_split=2, min_samples_leaf=1, \n",
    "    max_features='auto', bootstrap=True, oob_score=False, class_weight=None, n_jobs=-1) # 0.8827, 29 seconds\n",
    "\n",
    "model.fit(X_train, y_train.values.ravel())\n",
    "# Predict\n",
    "y_pred = model.predict(X_test)\n",
    "# Print result\n",
    "print(\"n_estimators=150, max_depth=None, min_samples_split=2, min_samples_leaf=1, \",\n",
    "    \"max_features='auto', bootstrap=True, oob_score=False, class_weight=None, n_jobs=-1\")\n",
    "print(accuracy_score(y_test, y_pred))"
   ]
  },
  {
   "cell_type": "code",
   "execution_count": 11,
   "metadata": {},
   "outputs": [
    {
     "name": "stdout",
     "output_type": "stream",
     "text": [
      "n_estimators=200, max_depth=None, min_samples_split=2, min_samples_leaf=1,  max_features='auto', bootstrap=True, oob_score=False, class_weight=None, n_jobs=-1\n",
      "0.8846\n"
     ]
    }
   ],
   "source": [
    "model = RandomForestClassifier(\n",
    "    n_estimators=200, max_depth=None, min_samples_split=2, min_samples_leaf=1, \n",
    "    max_features='auto', bootstrap=True, oob_score=False, class_weight=None, n_jobs=-1) # 0.8827, 29 seconds\n",
    "\n",
    "model.fit(X_train, y_train.values.ravel())\n",
    "# Predict\n",
    "y_pred = model.predict(X_test)\n",
    "# Print result\n",
    "print(\"n_estimators=200, max_depth=None, min_samples_split=2, min_samples_leaf=1, \",\n",
    "    \"max_features='auto', bootstrap=True, oob_score=False, class_weight=None, n_jobs=-1\")\n",
    "print(accuracy_score(y_test, y_pred))"
   ]
  },
  {
   "cell_type": "code",
   "execution_count": 12,
   "metadata": {},
   "outputs": [
    {
     "name": "stdout",
     "output_type": "stream",
     "text": [
      "n_estimators=300, max_depth=None, min_samples_split=2, min_samples_leaf=1,  max_features='auto', bootstrap=True, oob_score=False, class_weight=None, n_jobs=-1\n",
      "0.8853\n"
     ]
    }
   ],
   "source": [
    "model = RandomForestClassifier(\n",
    "    n_estimators=300, max_depth=None, min_samples_split=2, min_samples_leaf=1, \n",
    "    max_features='auto', bootstrap=True, oob_score=False, class_weight=None, n_jobs=-1) # 0.8827, 29 seconds\n",
    "\n",
    "model.fit(X_train, y_train.values.ravel())\n",
    "# Predict\n",
    "y_pred = model.predict(X_test)\n",
    "# Print result\n",
    "print(\"n_estimators=300, max_depth=None, min_samples_split=2, min_samples_leaf=1, \",\n",
    "    \"max_features='auto', bootstrap=True, oob_score=False, class_weight=None, n_jobs=-1\")\n",
    "print(accuracy_score(y_test, y_pred))"
   ]
  },
  {
   "cell_type": "code",
   "execution_count": 13,
   "metadata": {},
   "outputs": [
    {
     "name": "stdout",
     "output_type": "stream",
     "text": [
      "n_estimators=400, max_depth=None, min_samples_split=2, min_samples_leaf=1,  max_features='auto', bootstrap=True, oob_score=False, class_weight=None, n_jobs=-1\n",
      "0.8859\n"
     ]
    }
   ],
   "source": [
    "model = RandomForestClassifier(\n",
    "    n_estimators=400, max_depth=None, min_samples_split=2, min_samples_leaf=1, \n",
    "    max_features='auto', bootstrap=True, oob_score=False, class_weight=None, n_jobs=-1) # 0.8827, 29 seconds\n",
    "\n",
    "model.fit(X_train, y_train.values.ravel())\n",
    "# Predict\n",
    "y_pred = model.predict(X_test)\n",
    "# Print result\n",
    "print(\"n_estimators=400, max_depth=None, min_samples_split=2, min_samples_leaf=1, \",\n",
    "    \"max_features='auto', bootstrap=True, oob_score=False, class_weight=None, n_jobs=-1\")\n",
    "print(accuracy_score(y_test, y_pred))"
   ]
  },
  {
   "cell_type": "code",
   "execution_count": 14,
   "metadata": {},
   "outputs": [
    {
     "name": "stdout",
     "output_type": "stream",
     "text": [
      "n_estimators=600, max_depth=None, min_samples_split=2, min_samples_leaf=1,  max_features='auto', bootstrap=True, oob_score=False, class_weight=None, n_jobs=-1\n",
      "0.8857\n"
     ]
    }
   ],
   "source": [
    "model = RandomForestClassifier(\n",
    "    n_estimators=600, max_depth=None, min_samples_split=2, min_samples_leaf=1, \n",
    "    max_features='auto', bootstrap=True, oob_score=False, class_weight=None, n_jobs=-1) # 0.8827, 29 seconds\n",
    "\n",
    "model.fit(X_train, y_train.values.ravel())\n",
    "# Predict\n",
    "y_pred = model.predict(X_test)\n",
    "# Print result\n",
    "print(\"n_estimators=600, max_depth=None, min_samples_split=2, min_samples_leaf=1, \",\n",
    "    \"max_features='auto', bootstrap=True, oob_score=False, class_weight=None, n_jobs=-1\")\n",
    "print(accuracy_score(y_test, y_pred))"
   ]
  },
  {
   "cell_type": "code",
   "execution_count": 15,
   "metadata": {},
   "outputs": [
    {
     "name": "stdout",
     "output_type": "stream",
     "text": [
      "n_estimators=700, max_depth=None, min_samples_split=2, min_samples_leaf=1,  max_features='auto', bootstrap=True, oob_score=False, class_weight=None, n_jobs=-1\n",
      "0.8863\n"
     ]
    }
   ],
   "source": [
    "model = RandomForestClassifier(\n",
    "    n_estimators=700, max_depth=None, min_samples_split=2, min_samples_leaf=1, \n",
    "    max_features='auto', bootstrap=True, oob_score=False, class_weight=None, n_jobs=-1) # 0.8827, 29 seconds\n",
    "\n",
    "model.fit(X_train, y_train.values.ravel())\n",
    "# Predict\n",
    "y_pred = model.predict(X_test)\n",
    "# Print result\n",
    "print(\"n_estimators=700, max_depth=None, min_samples_split=2, min_samples_leaf=1, \",\n",
    "    \"max_features='auto', bootstrap=True, oob_score=False, class_weight=None, n_jobs=-1\")\n",
    "print(accuracy_score(y_test, y_pred))"
   ]
  },
  {
   "cell_type": "markdown",
   "metadata": {},
   "source": [
    "Tuning max_depth"
   ]
  },
  {
   "cell_type": "code",
   "execution_count": 38,
   "metadata": {},
   "outputs": [
    {
     "name": "stdout",
     "output_type": "stream",
     "text": [
      "n_estimators=300, max_depth=None, min_samples_split=2, min_samples_leaf=1,  max_features='auto', bootstrap=True, oob_score=False, class_weight=None, n_jobs=-1\n",
      "0.8865\n"
     ]
    }
   ],
   "source": [
    "model = RandomForestClassifier(\n",
    "    n_estimators=500, max_depth=None, min_samples_split=2, min_samples_leaf=1, \n",
    "    max_features='auto', bootstrap=True, oob_score=False, class_weight=None, n_jobs=-1) # 0.8827, 29 seconds\n",
    "\n",
    "model.fit(X_train, y_train.values.ravel())\n",
    "# Predict\n",
    "y_pred = model.predict(X_test)\n",
    "# Print result\n",
    "print(\"n_estimators=300, max_depth=None, min_samples_split=2, min_samples_leaf=1, \",\n",
    "    \"max_features='auto', bootstrap=True, oob_score=False, class_weight=None, n_jobs=-1\")\n",
    "print(accuracy_score(y_test, y_pred))"
   ]
  },
  {
   "cell_type": "code",
   "execution_count": 39,
   "metadata": {},
   "outputs": [
    {
     "name": "stdout",
     "output_type": "stream",
     "text": [
      "n_estimators=300, max_depth=10, min_samples_split=2, min_samples_leaf=1,  max_features='auto', bootstrap=True, oob_score=False, class_weight=None, n_jobs=-1\n",
      "0.8555\n"
     ]
    }
   ],
   "source": [
    "model = RandomForestClassifier(\n",
    "    n_estimators=500, max_depth=10, min_samples_split=2, min_samples_leaf=1, \n",
    "    max_features='auto', bootstrap=True, oob_score=False, class_weight=None, n_jobs=-1) # 0.8827, 29 seconds\n",
    "\n",
    "model.fit(X_train, y_train.values.ravel())\n",
    "# Predict\n",
    "y_pred = model.predict(X_test)\n",
    "# Print result\n",
    "print(\"n_estimators=300, max_depth=10, min_samples_split=2, min_samples_leaf=1, \",\n",
    "    \"max_features='auto', bootstrap=True, oob_score=False, class_weight=None, n_jobs=-1\")\n",
    "print(accuracy_score(y_test, y_pred))"
   ]
  },
  {
   "cell_type": "code",
   "execution_count": 40,
   "metadata": {},
   "outputs": [
    {
     "name": "stdout",
     "output_type": "stream",
     "text": [
      "n_estimators=300, max_depth=20, min_samples_split=2, min_samples_leaf=1,  max_features='auto', bootstrap=True, oob_score=False, class_weight=None, n_jobs=-1\n",
      "0.885\n"
     ]
    }
   ],
   "source": [
    "model = RandomForestClassifier(\n",
    "    n_estimators=500, max_depth=20, min_samples_split=2, min_samples_leaf=1, \n",
    "    max_features='auto', bootstrap=True, oob_score=False, class_weight=None, n_jobs=-1) # 0.8827, 29 seconds\n",
    "\n",
    "model.fit(X_train, y_train.values.ravel())\n",
    "# Predict\n",
    "y_pred = model.predict(X_test)\n",
    "# Print result\n",
    "print(\"n_estimators=300, max_depth=20, min_samples_split=2, min_samples_leaf=1, \",\n",
    "    \"max_features='auto', bootstrap=True, oob_score=False, class_weight=None, n_jobs=-1\")\n",
    "print(accuracy_score(y_test, y_pred))"
   ]
  },
  {
   "cell_type": "code",
   "execution_count": 41,
   "metadata": {},
   "outputs": [
    {
     "name": "stdout",
     "output_type": "stream",
     "text": [
      "n_estimators=300, max_depth=30, min_samples_split=2, min_samples_leaf=1,  max_features='auto', bootstrap=True, oob_score=False, class_weight=None, n_jobs=-1\n",
      "0.8857\n"
     ]
    }
   ],
   "source": [
    "model = RandomForestClassifier(\n",
    "    n_estimators=500, max_depth=30, min_samples_split=2, min_samples_leaf=1, \n",
    "    max_features='auto', bootstrap=True, oob_score=False, class_weight=None, n_jobs=-1) # 0.8827, 29 seconds\n",
    "\n",
    "model.fit(X_train, y_train.values.ravel())\n",
    "# Predict\n",
    "y_pred = model.predict(X_test)\n",
    "# Print result\n",
    "print(\"n_estimators=300, max_depth=30, min_samples_split=2, min_samples_leaf=1, \",\n",
    "    \"max_features='auto', bootstrap=True, oob_score=False, class_weight=None, n_jobs=-1\")\n",
    "print(accuracy_score(y_test, y_pred))"
   ]
  },
  {
   "cell_type": "code",
   "execution_count": 42,
   "metadata": {},
   "outputs": [
    {
     "name": "stdout",
     "output_type": "stream",
     "text": [
      "n_estimators=300, max_depth=50, min_samples_split=2, min_samples_leaf=1,  max_features='auto', bootstrap=True, oob_score=False, class_weight=None, n_jobs=-1\n",
      "0.8864\n"
     ]
    }
   ],
   "source": [
    "model = RandomForestClassifier(\n",
    "    n_estimators=500, max_depth=50, min_samples_split=2, min_samples_leaf=1, \n",
    "    max_features='auto', bootstrap=True, oob_score=False, class_weight=None, n_jobs=-1) # 0.8827, 29 seconds\n",
    "\n",
    "model.fit(X_train, y_train.values.ravel())\n",
    "# Predict\n",
    "y_pred = model.predict(X_test)\n",
    "# Print result\n",
    "print(\"n_estimators=300, max_depth=50, min_samples_split=2, min_samples_leaf=1, \",\n",
    "    \"max_features='auto', bootstrap=True, oob_score=False, class_weight=None, n_jobs=-1\")\n",
    "print(accuracy_score(y_test, y_pred))"
   ]
  },
  {
   "cell_type": "code",
   "execution_count": 43,
   "metadata": {},
   "outputs": [
    {
     "name": "stdout",
     "output_type": "stream",
     "text": [
      "n_estimators=300, max_depth=70, min_samples_split=2, min_samples_leaf=1,  max_features='auto', bootstrap=True, oob_score=False, class_weight=None, n_jobs=-1\n",
      "0.887\n"
     ]
    }
   ],
   "source": [
    "model = RandomForestClassifier(\n",
    "    n_estimators=500, max_depth=70, min_samples_split=2, min_samples_leaf=1, \n",
    "    max_features='auto', bootstrap=True, oob_score=False, class_weight=None, n_jobs=-1) # 0.8827, 29 seconds\n",
    "\n",
    "model.fit(X_train, y_train.values.ravel())\n",
    "# Predict\n",
    "y_pred = model.predict(X_test)\n",
    "# Print result\n",
    "print(\"n_estimators=300, max_depth=70, min_samples_split=2, min_samples_leaf=1, \",\n",
    "    \"max_features='auto', bootstrap=True, oob_score=False, class_weight=None, n_jobs=-1\")\n",
    "print(accuracy_score(y_test, y_pred))"
   ]
  },
  {
   "cell_type": "code",
   "execution_count": 44,
   "metadata": {},
   "outputs": [
    {
     "name": "stdout",
     "output_type": "stream",
     "text": [
      "n_estimators=300, max_depth=100, min_samples_split=2, min_samples_leaf=1,  max_features='auto', bootstrap=True, oob_score=False, class_weight=None, n_jobs=-1\n",
      "0.8867\n"
     ]
    }
   ],
   "source": [
    "model = RandomForestClassifier(\n",
    "    n_estimators=500, max_depth=100, min_samples_split=2, min_samples_leaf=1, \n",
    "    max_features='auto', bootstrap=True, oob_score=False, class_weight=None, n_jobs=-1) # 0.8827, 29 seconds\n",
    "\n",
    "model.fit(X_train, y_train.values.ravel())\n",
    "# Predict\n",
    "y_pred = model.predict(X_test)\n",
    "# Print result\n",
    "print(\"n_estimators=300, max_depth=100, min_samples_split=2, min_samples_leaf=1, \",\n",
    "    \"max_features='auto', bootstrap=True, oob_score=False, class_weight=None, n_jobs=-1\")\n",
    "print(accuracy_score(y_test, y_pred))"
   ]
  },
  {
   "cell_type": "code",
   "execution_count": 45,
   "metadata": {},
   "outputs": [
    {
     "name": "stdout",
     "output_type": "stream",
     "text": [
      "n_estimators=300, max_depth=125, min_samples_split=2, min_samples_leaf=1,  max_features='auto', bootstrap=True, oob_score=False, class_weight=None, n_jobs=-1\n",
      "0.8855\n"
     ]
    }
   ],
   "source": [
    "model = RandomForestClassifier(\n",
    "    n_estimators=500, max_depth=125, min_samples_split=2, min_samples_leaf=1, \n",
    "    max_features='auto', bootstrap=True, oob_score=False, class_weight=None, n_jobs=-1) # 0.8827, 29 seconds\n",
    "\n",
    "model.fit(X_train, y_train.values.ravel())\n",
    "# Predict\n",
    "y_pred = model.predict(X_test)\n",
    "# Print result\n",
    "print(\"n_estimators=300, max_depth=125, min_samples_split=2, min_samples_leaf=1, \",\n",
    "    \"max_features='auto', bootstrap=True, oob_score=False, class_weight=None, n_jobs=-1\")\n",
    "print(accuracy_score(y_test, y_pred))"
   ]
  },
  {
   "cell_type": "code",
   "execution_count": 46,
   "metadata": {},
   "outputs": [
    {
     "name": "stdout",
     "output_type": "stream",
     "text": [
      "n_estimators=300, max_depth=150, min_samples_split=2, min_samples_leaf=1,  max_features='auto', bootstrap=True, oob_score=False, class_weight=None, n_jobs=-1\n",
      "0.8868\n"
     ]
    }
   ],
   "source": [
    "model = RandomForestClassifier(\n",
    "    n_estimators=500, max_depth=150, min_samples_split=2, min_samples_leaf=1, \n",
    "    max_features='auto', bootstrap=True, oob_score=False, class_weight=None, n_jobs=-1) # 0.8827, 29 seconds\n",
    "\n",
    "model.fit(X_train, y_train.values.ravel())\n",
    "# Predict\n",
    "y_pred = model.predict(X_test)\n",
    "# Print result\n",
    "print(\"n_estimators=300, max_depth=150, min_samples_split=2, min_samples_leaf=1, \",\n",
    "    \"max_features='auto', bootstrap=True, oob_score=False, class_weight=None, n_jobs=-1\")\n",
    "print(accuracy_score(y_test, y_pred))"
   ]
  },
  {
   "cell_type": "code",
   "execution_count": 47,
   "metadata": {},
   "outputs": [
    {
     "name": "stdout",
     "output_type": "stream",
     "text": [
      "n_estimators=300, max_depth=200, min_samples_split=2, min_samples_leaf=1,  max_features='auto', bootstrap=True, oob_score=False, class_weight=None, n_jobs=-1\n",
      "0.8876\n"
     ]
    }
   ],
   "source": [
    "model = RandomForestClassifier(\n",
    "    n_estimators=500, max_depth=200, min_samples_split=2, min_samples_leaf=1, \n",
    "    max_features='auto', bootstrap=True, oob_score=False, class_weight=None, n_jobs=-1) # 0.8827, 29 seconds\n",
    "\n",
    "model.fit(X_train, y_train.values.ravel())\n",
    "# Predict\n",
    "y_pred = model.predict(X_test)\n",
    "# Print result\n",
    "print(\"n_estimators=300, max_depth=200, min_samples_split=2, min_samples_leaf=1, \",\n",
    "    \"max_features='auto', bootstrap=True, oob_score=False, class_weight=None, n_jobs=-1\")\n",
    "print(accuracy_score(y_test, y_pred))"
   ]
  },
  {
   "cell_type": "code",
   "execution_count": 48,
   "metadata": {},
   "outputs": [
    {
     "name": "stdout",
     "output_type": "stream",
     "text": [
      "n_estimators=300, max_depth=300, min_samples_split=2, min_samples_leaf=1,  max_features='auto', bootstrap=True, oob_score=False, class_weight=None, n_jobs=-1\n",
      "0.8861\n"
     ]
    }
   ],
   "source": [
    "model = RandomForestClassifier(\n",
    "    n_estimators=500, max_depth=300, min_samples_split=2, min_samples_leaf=1, \n",
    "    max_features='auto', bootstrap=True, oob_score=False, class_weight=None, n_jobs=-1) # 0.8827, 29 seconds\n",
    "\n",
    "model.fit(X_train, y_train.values.ravel())\n",
    "# Predict\n",
    "y_pred = model.predict(X_test)\n",
    "# Print result\n",
    "print(\"n_estimators=300, max_depth=300, min_samples_split=2, min_samples_leaf=1, \",\n",
    "    \"max_features='auto', bootstrap=True, oob_score=False, class_weight=None, n_jobs=-1\")\n",
    "print(accuracy_score(y_test, y_pred))"
   ]
  },
  {
   "cell_type": "markdown",
   "metadata": {},
   "source": [
    "Tuning max_features"
   ]
  },
  {
   "cell_type": "code",
   "execution_count": 49,
   "metadata": {},
   "outputs": [
    {
     "name": "stdout",
     "output_type": "stream",
     "text": [
      "n_estimators=300, max_depth=200, min_samples_split=2, min_samples_leaf=1,  max_features='auto', bootstrap=True, oob_score=False, class_weight=None, n_jobs=-1\n",
      "0.8866\n"
     ]
    }
   ],
   "source": [
    "model = RandomForestClassifier(\n",
    "    n_estimators=500, max_depth=200, min_samples_split=2, min_samples_leaf=1, \n",
    "    max_features='auto', bootstrap=True, oob_score=False, class_weight=None, n_jobs=-1) # 0.8827, 29 seconds\n",
    "\n",
    "model.fit(X_train, y_train.values.ravel())\n",
    "# Predict\n",
    "y_pred = model.predict(X_test)\n",
    "# Print result\n",
    "print(\"n_estimators=300, max_depth=200, min_samples_split=2, min_samples_leaf=1, \",\n",
    "    \"max_features='auto', bootstrap=True, oob_score=False, class_weight=None, n_jobs=-1\")\n",
    "print(accuracy_score(y_test, y_pred))"
   ]
  },
  {
   "cell_type": "code",
   "execution_count": 50,
   "metadata": {},
   "outputs": [
    {
     "name": "stdout",
     "output_type": "stream",
     "text": [
      "n_estimators=300, max_depth=200, min_samples_split=2, min_samples_leaf=1,  max_features='sqrt', bootstrap=True, oob_score=False, class_weight=None, n_jobs=-1\n",
      "0.8855\n"
     ]
    }
   ],
   "source": [
    "model = RandomForestClassifier(\n",
    "    n_estimators=500, max_depth=200, min_samples_split=2, min_samples_leaf=1, \n",
    "    max_features='sqrt', bootstrap=True, oob_score=False, class_weight=None, n_jobs=-1) # 0.8827, 29 seconds\n",
    "\n",
    "model.fit(X_train, y_train.values.ravel())\n",
    "# Predict\n",
    "y_pred = model.predict(X_test)\n",
    "# Print result\n",
    "print(\"n_estimators=300, max_depth=200, min_samples_split=2, min_samples_leaf=1, \",\n",
    "    \"max_features='sqrt', bootstrap=True, oob_score=False, class_weight=None, n_jobs=-1\")\n",
    "print(accuracy_score(y_test, y_pred))"
   ]
  },
  {
   "cell_type": "code",
   "execution_count": 51,
   "metadata": {},
   "outputs": [
    {
     "name": "stdout",
     "output_type": "stream",
     "text": [
      "n_estimators=300, max_depth=200, min_samples_split=2, min_samples_leaf=1,  max_features='log2', bootstrap=True, oob_score=False, class_weight=None, n_jobs=-1\n",
      "0.8823\n"
     ]
    }
   ],
   "source": [
    "model = RandomForestClassifier(\n",
    "    n_estimators=500, max_depth=200, min_samples_split=2, min_samples_leaf=1, \n",
    "    max_features='log2', bootstrap=True, oob_score=False, class_weight=None, n_jobs=-1) # 0.8827, 29 seconds\n",
    "\n",
    "model.fit(X_train, y_train.values.ravel())\n",
    "# Predict\n",
    "y_pred = model.predict(X_test)\n",
    "# Print result\n",
    "print(\"n_estimators=300, max_depth=200, min_samples_split=2, min_samples_leaf=1, \",\n",
    "    \"max_features='log2', bootstrap=True, oob_score=False, class_weight=None, n_jobs=-1\")\n",
    "print(accuracy_score(y_test, y_pred))"
   ]
  },
  {
   "cell_type": "markdown",
   "metadata": {},
   "source": [
    "Tuning bootstrap"
   ]
  },
  {
   "cell_type": "code",
   "execution_count": 53,
   "metadata": {},
   "outputs": [
    {
     "name": "stdout",
     "output_type": "stream",
     "text": [
      "n_estimators=300, max_depth=200, min_samples_split=2, min_samples_leaf=1,  max_features='auto', bootstrap=True, oob_score=False, class_weight=None, n_jobs=-1\n",
      "0.8863\n"
     ]
    }
   ],
   "source": [
    "model = RandomForestClassifier(\n",
    "    n_estimators=500, max_depth=200, min_samples_split=2, min_samples_leaf=1, \n",
    "    max_features='auto', bootstrap=True, oob_score=False, class_weight=None, n_jobs=-1) # 0.8827, 29 seconds\n",
    "\n",
    "model.fit(X_train, y_train.values.ravel())\n",
    "# Predict\n",
    "y_pred = model.predict(X_test)\n",
    "# Print result\n",
    "print(\"n_estimators=300, max_depth=200, min_samples_split=2, min_samples_leaf=1, \",\n",
    "    \"max_features='auto', bootstrap=True, oob_score=False, class_weight=None, n_jobs=-1\")\n",
    "print(accuracy_score(y_test, y_pred))"
   ]
  },
  {
   "cell_type": "code",
   "execution_count": 54,
   "metadata": {},
   "outputs": [
    {
     "name": "stdout",
     "output_type": "stream",
     "text": [
      "n_estimators=300, max_depth=200, min_samples_split=2, min_samples_leaf=1,  max_features='auto', bootstrap=False, oob_score=False, class_weight=None, n_jobs=-1\n",
      "0.8922\n"
     ]
    }
   ],
   "source": [
    "model = RandomForestClassifier(\n",
    "    n_estimators=500, max_depth=200, min_samples_split=2, min_samples_leaf=1, \n",
    "    max_features='auto', bootstrap=False, oob_score=False, class_weight=None, n_jobs=-1) # 0.8827, 29 seconds\n",
    "\n",
    "model.fit(X_train, y_train.values.ravel())\n",
    "# Predict\n",
    "y_pred = model.predict(X_test)\n",
    "# Print result\n",
    "print(\"n_estimators=300, max_depth=200, min_samples_split=2, min_samples_leaf=1, \",\n",
    "    \"max_features='auto', bootstrap=False, oob_score=False, class_weight=None, n_jobs=-1\")\n",
    "print(accuracy_score(y_test, y_pred))"
   ]
  },
  {
   "cell_type": "markdown",
   "metadata": {},
   "source": [
    "Tuning oob_score"
   ]
  },
  {
   "cell_type": "code",
   "execution_count": 55,
   "metadata": {},
   "outputs": [
    {
     "name": "stdout",
     "output_type": "stream",
     "text": [
      "n_estimators=300, max_depth=200, min_samples_split=2, min_samples_leaf=1,  max_features='auto', bootstrap=False, oob_score=False, class_weight=None, n_jobs=-1\n",
      "0.8912\n"
     ]
    }
   ],
   "source": [
    "model = RandomForestClassifier(\n",
    "    n_estimators=500, max_depth=200, min_samples_split=2, min_samples_leaf=1, \n",
    "    max_features='auto', bootstrap=False, oob_score=False, class_weight=None, n_jobs=-1) # 0.8827, 29 seconds\n",
    "\n",
    "model.fit(X_train, y_train.values.ravel())\n",
    "# Predict\n",
    "y_pred = model.predict(X_test)\n",
    "# Print result\n",
    "print(\"n_estimators=300, max_depth=200, min_samples_split=2, min_samples_leaf=1, \",\n",
    "    \"max_features='auto', bootstrap=False, oob_score=False, class_weight=None, n_jobs=-1\")\n",
    "print(accuracy_score(y_test, y_pred))"
   ]
  },
  {
   "cell_type": "code",
   "execution_count": 57,
   "metadata": {},
   "outputs": [
    {
     "name": "stdout",
     "output_type": "stream",
     "text": [
      "n_estimators=300, max_depth=200, min_samples_split=2, min_samples_leaf=1,  max_features='auto', bootstrap=True, oob_score=True, class_weight=None, n_jobs=-1\n",
      "0.8852\n"
     ]
    }
   ],
   "source": [
    "model = RandomForestClassifier(\n",
    "    n_estimators=500, max_depth=200, min_samples_split=2, min_samples_leaf=1, \n",
    "    max_features='auto', bootstrap=True, oob_score=True, class_weight=None, n_jobs=-1) # 0.8827, 29 seconds\n",
    "\n",
    "model.fit(X_train, y_train.values.ravel())\n",
    "# Predict\n",
    "y_pred = model.predict(X_test)\n",
    "# Print result\n",
    "print(\"n_estimators=300, max_depth=200, min_samples_split=2, min_samples_leaf=1, \",\n",
    "    \"max_features='auto', bootstrap=True, oob_score=True, class_weight=None, n_jobs=-1\")\n",
    "print(accuracy_score(y_test, y_pred))"
   ]
  },
  {
   "cell_type": "markdown",
   "metadata": {},
   "source": [
    "Tuning class_weight"
   ]
  },
  {
   "cell_type": "code",
   "execution_count": 58,
   "metadata": {},
   "outputs": [
    {
     "name": "stdout",
     "output_type": "stream",
     "text": [
      "n_estimators=300, max_depth=200, min_samples_split=2, min_samples_leaf=1,  max_features='auto', bootstrap=False, oob_score=False, class_weight=None, n_jobs=-1\n",
      "0.8934\n"
     ]
    }
   ],
   "source": [
    "model = RandomForestClassifier(\n",
    "    n_estimators=500, max_depth=200, min_samples_split=2, min_samples_leaf=1, \n",
    "    max_features='auto', bootstrap=False, oob_score=False, class_weight=None, n_jobs=-1) # 0.8827, 29 seconds\n",
    "\n",
    "model.fit(X_train, y_train.values.ravel())\n",
    "# Predict\n",
    "y_pred = model.predict(X_test)\n",
    "# Print result\n",
    "print(\"n_estimators=300, max_depth=200, min_samples_split=2, min_samples_leaf=1, \",\n",
    "    \"max_features='auto', bootstrap=False, oob_score=False, class_weight=None, n_jobs=-1\")\n",
    "print(accuracy_score(y_test, y_pred))"
   ]
  },
  {
   "cell_type": "code",
   "execution_count": 60,
   "metadata": {},
   "outputs": [
    {
     "name": "stdout",
     "output_type": "stream",
     "text": [
      "n_estimators=300, max_depth=200, min_samples_split=2, min_samples_leaf=1,  max_features='auto', bootstrap=False, oob_score=False, class_weight=balanced, n_jobs=-1\n",
      "0.8927\n"
     ]
    }
   ],
   "source": [
    "model = RandomForestClassifier(\n",
    "    n_estimators=500, max_depth=200, min_samples_split=2, min_samples_leaf=1, \n",
    "    max_features='auto', bootstrap=False, oob_score=False, class_weight='balanced', n_jobs=-1) # 0.8827, 29 seconds\n",
    "\n",
    "model.fit(X_train, y_train.values.ravel())\n",
    "# Predict\n",
    "y_pred = model.predict(X_test)\n",
    "# Print result\n",
    "print(\"n_estimators=300, max_depth=200, min_samples_split=2, min_samples_leaf=1, \",\n",
    "    \"max_features='auto', bootstrap=False, oob_score=False, class_weight=balanced, n_jobs=-1\")\n",
    "print(accuracy_score(y_test, y_pred))"
   ]
  },
  {
   "cell_type": "code",
   "execution_count": 61,
   "metadata": {},
   "outputs": [
    {
     "name": "stdout",
     "output_type": "stream",
     "text": [
      "n_estimators=300, max_depth=200, min_samples_split=2, min_samples_leaf=1,  max_features='auto', bootstrap=False, oob_score=False, class_weight=balanced_subsample, n_jobs=-1\n",
      "0.8904\n"
     ]
    }
   ],
   "source": [
    "model = RandomForestClassifier(\n",
    "    n_estimators=500, max_depth=200, min_samples_split=2, min_samples_leaf=1, \n",
    "    max_features='auto', bootstrap=False, oob_score=False, class_weight='balanced_subsample', n_jobs=-1) # 0.8827, 29 seconds\n",
    "\n",
    "model.fit(X_train, y_train.values.ravel())\n",
    "# Predict\n",
    "y_pred = model.predict(X_test)\n",
    "# Print result\n",
    "print(\"n_estimators=300, max_depth=200, min_samples_split=2, min_samples_leaf=1, \",\n",
    "    \"max_features='auto', bootstrap=False, oob_score=False, class_weight=balanced_subsample, n_jobs=-1\")\n",
    "print(accuracy_score(y_test, y_pred))"
   ]
  },
  {
   "cell_type": "markdown",
   "metadata": {},
   "source": [
    "Tuning min_sample_split"
   ]
  },
  {
   "cell_type": "code",
   "execution_count": 62,
   "metadata": {},
   "outputs": [
    {
     "name": "stdout",
     "output_type": "stream",
     "text": [
      "n_estimators=300, max_depth=200, min_samples_split=2, min_samples_leaf=1,  max_features='auto', bootstrap=False, oob_score=False, class_weight=None, n_jobs=-1\n",
      "0.892\n"
     ]
    }
   ],
   "source": [
    "model = RandomForestClassifier(\n",
    "    n_estimators=500, max_depth=200, min_samples_split=2, min_samples_leaf=1, \n",
    "    max_features='auto', bootstrap=False, oob_score=False, class_weight=None, n_jobs=-1) # 0.8827, 29 seconds\n",
    "\n",
    "model.fit(X_train, y_train.values.ravel())\n",
    "# Predict\n",
    "y_pred = model.predict(X_test)\n",
    "# Print result\n",
    "print(\"n_estimators=300, max_depth=200, min_samples_split=2, min_samples_leaf=1, \",\n",
    "    \"max_features='auto', bootstrap=False, oob_score=False, class_weight=None, n_jobs=-1\")\n",
    "print(accuracy_score(y_test, y_pred))"
   ]
  },
  {
   "cell_type": "code",
   "execution_count": 64,
   "metadata": {},
   "outputs": [
    {
     "name": "stdout",
     "output_type": "stream",
     "text": [
      "n_estimators=300, max_depth=200, min_samples_split=3, min_samples_leaf=1,  max_features='auto', bootstrap=False, oob_score=False, class_weight=None, n_jobs=-1\n",
      "0.8916\n"
     ]
    }
   ],
   "source": [
    "model = RandomForestClassifier(\n",
    "    n_estimators=500, max_depth=200, min_samples_split=3, min_samples_leaf=1, \n",
    "    max_features='auto', bootstrap=False, oob_score=False, class_weight=None, n_jobs=-1) # 0.8827, 29 seconds\n",
    "\n",
    "model.fit(X_train, y_train.values.ravel())\n",
    "# Predict\n",
    "y_pred = model.predict(X_test)\n",
    "# Print result\n",
    "print(\"n_estimators=300, max_depth=200, min_samples_split=3, min_samples_leaf=1, \",\n",
    "    \"max_features='auto', bootstrap=False, oob_score=False, class_weight=None, n_jobs=-1\")\n",
    "print(accuracy_score(y_test, y_pred))"
   ]
  },
  {
   "cell_type": "code",
   "execution_count": 65,
   "metadata": {},
   "outputs": [
    {
     "name": "stdout",
     "output_type": "stream",
     "text": [
      "n_estimators=300, max_depth=200, min_samples_split=4, min_samples_leaf=1,  max_features='auto', bootstrap=False, oob_score=False, class_weight=None, n_jobs=-1\n",
      "0.8913\n"
     ]
    }
   ],
   "source": [
    "model = RandomForestClassifier(\n",
    "    n_estimators=500, max_depth=200, min_samples_split=4, min_samples_leaf=1, \n",
    "    max_features='auto', bootstrap=False, oob_score=False, class_weight=None, n_jobs=-1) # 0.8827, 29 seconds\n",
    "\n",
    "model.fit(X_train, y_train.values.ravel())\n",
    "# Predict\n",
    "y_pred = model.predict(X_test)\n",
    "# Print result\n",
    "print(\"n_estimators=300, max_depth=200, min_samples_split=4, min_samples_leaf=1, \",\n",
    "    \"max_features='auto', bootstrap=False, oob_score=False, class_weight=None, n_jobs=-1\")\n",
    "print(accuracy_score(y_test, y_pred))"
   ]
  },
  {
   "cell_type": "code",
   "execution_count": 66,
   "metadata": {},
   "outputs": [
    {
     "name": "stdout",
     "output_type": "stream",
     "text": [
      "n_estimators=300, max_depth=200, min_samples_split=5, min_samples_leaf=1,  max_features='auto', bootstrap=False, oob_score=False, class_weight=None, n_jobs=-1\n",
      "0.8914\n"
     ]
    }
   ],
   "source": [
    "model = RandomForestClassifier(\n",
    "    n_estimators=500, max_depth=200, min_samples_split=5, min_samples_leaf=1, \n",
    "    max_features='auto', bootstrap=False, oob_score=False, class_weight=None, n_jobs=-1) # 0.8827, 29 seconds\n",
    "\n",
    "model.fit(X_train, y_train.values.ravel())\n",
    "# Predict\n",
    "y_pred = model.predict(X_test)\n",
    "# Print result\n",
    "print(\"n_estimators=300, max_depth=200, min_samples_split=5, min_samples_leaf=1, \",\n",
    "    \"max_features='auto', bootstrap=False, oob_score=False, class_weight=None, n_jobs=-1\")\n",
    "print(accuracy_score(y_test, y_pred))"
   ]
  },
  {
   "cell_type": "markdown",
   "metadata": {},
   "source": [
    "Tuning min_sample_leaf"
   ]
  },
  {
   "cell_type": "code",
   "execution_count": 67,
   "metadata": {},
   "outputs": [
    {
     "name": "stdout",
     "output_type": "stream",
     "text": [
      "n_estimators=300, max_depth=200, min_samples_split=2, min_samples_leaf=1,  max_features='auto', bootstrap=False, oob_score=False, class_weight=None, n_jobs=-1\n",
      "0.8922\n"
     ]
    }
   ],
   "source": [
    "model = RandomForestClassifier(\n",
    "    n_estimators=500, max_depth=200, min_samples_split=2, min_samples_leaf=1, \n",
    "    max_features='auto', bootstrap=False, oob_score=False, class_weight=None, n_jobs=-1) # 0.8827, 29 seconds\n",
    "\n",
    "model.fit(X_train, y_train.values.ravel())\n",
    "# Predict\n",
    "y_pred = model.predict(X_test)\n",
    "# Print result\n",
    "print(\"n_estimators=300, max_depth=200, min_samples_split=2, min_samples_leaf=1, \",\n",
    "    \"max_features='auto', bootstrap=False, oob_score=False, class_weight=None, n_jobs=-1\")\n",
    "print(accuracy_score(y_test, y_pred))"
   ]
  },
  {
   "cell_type": "code",
   "execution_count": 68,
   "metadata": {},
   "outputs": [
    {
     "name": "stdout",
     "output_type": "stream",
     "text": [
      "n_estimators=300, max_depth=200, min_samples_split=2, min_samples_leaf=2,  max_features='auto', bootstrap=False, oob_score=False, class_weight=None, n_jobs=-1\n",
      "0.8912\n"
     ]
    }
   ],
   "source": [
    "model = RandomForestClassifier(\n",
    "    n_estimators=500, max_depth=200, min_samples_split=2, min_samples_leaf=2, \n",
    "    max_features='auto', bootstrap=False, oob_score=False, class_weight=None, n_jobs=-1) # 0.8827, 29 seconds\n",
    "\n",
    "model.fit(X_train, y_train.values.ravel())\n",
    "# Predict\n",
    "y_pred = model.predict(X_test)\n",
    "# Print result\n",
    "print(\"n_estimators=300, max_depth=200, min_samples_split=2, min_samples_leaf=2, \",\n",
    "    \"max_features='auto', bootstrap=False, oob_score=False, class_weight=None, n_jobs=-1\")\n",
    "print(accuracy_score(y_test, y_pred))"
   ]
  },
  {
   "cell_type": "code",
   "execution_count": 69,
   "metadata": {},
   "outputs": [
    {
     "name": "stdout",
     "output_type": "stream",
     "text": [
      "n_estimators=300, max_depth=200, min_samples_split=2, min_samples_leaf=3,  max_features='auto', bootstrap=False, oob_score=False, class_weight=None, n_jobs=-1\n",
      "0.89\n"
     ]
    }
   ],
   "source": [
    "model = RandomForestClassifier(\n",
    "    n_estimators=500, max_depth=200, min_samples_split=2, min_samples_leaf=3, \n",
    "    max_features='auto', bootstrap=False, oob_score=False, class_weight=None, n_jobs=-1) # 0.8827, 29 seconds\n",
    "\n",
    "model.fit(X_train, y_train.values.ravel())\n",
    "# Predict\n",
    "y_pred = model.predict(X_test)\n",
    "# Print result\n",
    "print(\"n_estimators=300, max_depth=200, min_samples_split=2, min_samples_leaf=3, \",\n",
    "    \"max_features='auto', bootstrap=False, oob_score=False, class_weight=None, n_jobs=-1\")\n",
    "print(accuracy_score(y_test, y_pred))"
   ]
  },
  {
   "cell_type": "code",
   "execution_count": 70,
   "metadata": {},
   "outputs": [
    {
     "name": "stdout",
     "output_type": "stream",
     "text": [
      "n_estimators=300, max_depth=200, min_samples_split=2, min_samples_leaf=4,  max_features='auto', bootstrap=False, oob_score=False, class_weight=None, n_jobs=-1\n",
      "0.8891\n"
     ]
    }
   ],
   "source": [
    "model = RandomForestClassifier(\n",
    "    n_estimators=500, max_depth=200, min_samples_split=2, min_samples_leaf=4, \n",
    "    max_features='auto', bootstrap=False, oob_score=False, class_weight=None, n_jobs=-1) # 0.8827, 29 seconds\n",
    "\n",
    "model.fit(X_train, y_train.values.ravel())\n",
    "# Predict\n",
    "y_pred = model.predict(X_test)\n",
    "# Print result\n",
    "print(\"n_estimators=300, max_depth=200, min_samples_split=2, min_samples_leaf=4, \",\n",
    "    \"max_features='auto', bootstrap=False, oob_score=False, class_weight=None, n_jobs=-1\")\n",
    "print(accuracy_score(y_test, y_pred))"
   ]
  },
  {
   "cell_type": "code",
   "execution_count": 71,
   "metadata": {},
   "outputs": [
    {
     "name": "stdout",
     "output_type": "stream",
     "text": [
      "n_estimators=300, max_depth=200, min_samples_split=2, min_samples_leaf=5,  max_features='auto', bootstrap=False, oob_score=False, class_weight=None, n_jobs=-1\n",
      "0.8874\n"
     ]
    }
   ],
   "source": [
    "model = RandomForestClassifier(\n",
    "    n_estimators=500, max_depth=200, min_samples_split=2, min_samples_leaf=5, \n",
    "    max_features='auto', bootstrap=False, oob_score=False, class_weight=None, n_jobs=-1) # 0.8827, 29 seconds\n",
    "\n",
    "model.fit(X_train, y_train.values.ravel())\n",
    "# Predict\n",
    "y_pred = model.predict(X_test)\n",
    "# Print result\n",
    "print(\"n_estimators=300, max_depth=200, min_samples_split=2, min_samples_leaf=5, \",\n",
    "    \"max_features='auto', bootstrap=False, oob_score=False, class_weight=None, n_jobs=-1\")\n",
    "print(accuracy_score(y_test, y_pred))"
   ]
  },
  {
   "cell_type": "code",
   "execution_count": null,
   "metadata": {},
   "outputs": [],
   "source": []
  }
 ],
 "metadata": {
  "kernelspec": {
   "display_name": "Python 3",
   "language": "python",
   "name": "python3"
  },
  "language_info": {
   "codemirror_mode": {
    "name": "ipython",
    "version": 3
   },
   "file_extension": ".py",
   "mimetype": "text/x-python",
   "name": "python",
   "nbconvert_exporter": "python",
   "pygments_lexer": "ipython3",
   "version": "3.7.9"
  }
 },
 "nbformat": 4,
 "nbformat_minor": 4
}
