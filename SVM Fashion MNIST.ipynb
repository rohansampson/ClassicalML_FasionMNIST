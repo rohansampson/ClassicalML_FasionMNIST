{
 "cells": [
  {
   "cell_type": "code",
   "execution_count": 2,
   "metadata": {},
   "outputs": [],
   "source": [
    "import numpy as np # linear algebra\n",
    "import pandas as pd # data processing, CSV file I/O (e.g. pd.read_csv)"
   ]
  },
  {
   "cell_type": "code",
   "execution_count": 3,
   "metadata": {},
   "outputs": [],
   "source": [
    "from sklearn.svm import SVC\n",
    "from sklearn.metrics import accuracy_score"
   ]
  },
  {
   "cell_type": "code",
   "execution_count": 4,
   "metadata": {},
   "outputs": [],
   "source": [
    "df = pd.read_csv('fashiondata/fashion-mnist_train.csv', dtype=int) # read train data\n",
    "dft = pd.read_csv('fashiondata/fashion-mnist_test.csv', dtype=int) # read test data"
   ]
  },
  {
   "cell_type": "code",
   "execution_count": 5,
   "metadata": {},
   "outputs": [],
   "source": [
    "X_train = df.drop('label', axis=1)\n",
    "y_train = df['label']\n",
    "X_test = dft.drop('label', axis=1)\n",
    "y_test = dft['label']"
   ]
  },
  {
   "cell_type": "code",
   "execution_count": 6,
   "metadata": {},
   "outputs": [
    {
     "name": "stdout",
     "output_type": "stream",
     "text": [
      "0.8921\n"
     ]
    }
   ],
   "source": [
    "svm = SVC(C=1.0, kernel='rbf', gamma='scale')\n",
    "svm.fit(X_train,y_train)\n",
    "# Predict\n",
    "y_pred = svm.predict(X_test)\n",
    "# Print result\n",
    "print(accuracy_score(y_test, y_pred))"
   ]
  },
  {
   "cell_type": "markdown",
   "metadata": {},
   "source": [
    "Tuning C"
   ]
  },
  {
   "cell_type": "code",
   "execution_count": 6,
   "metadata": {},
   "outputs": [
    {
     "name": "stdout",
     "output_type": "stream",
     "text": [
      "C=0.5, kernel='rbf', gamma='scale'\n",
      "0.8848\n"
     ]
    }
   ],
   "source": [
    "svm = SVC(C=0.5, kernel='rbf', gamma='scale')\n",
    "svm.fit(X_train,y_train)\n",
    "# Predict\n",
    "y_pred = svm.predict(X_test)\n",
    "# Print result\n",
    "print(\"C=0.5, kernel='rbf', gamma='scale'\")\n",
    "print(accuracy_score(y_test, y_pred))"
   ]
  },
  {
   "cell_type": "code",
   "execution_count": 7,
   "metadata": {},
   "outputs": [
    {
     "name": "stdout",
     "output_type": "stream",
     "text": [
      "C=0.1, kernel='rbf', gamma='scale'\n",
      "0.8921\n"
     ]
    }
   ],
   "source": [
    "svm = SVC(C=1, kernel='rbf', gamma='scale')\n",
    "svm.fit(X_train,y_train)\n",
    "# Predict\n",
    "y_pred = svm.predict(X_test)\n",
    "# Print result\n",
    "print(\"C=0.1, kernel='rbf', gamma='scale'\")\n",
    "print(accuracy_score(y_test, y_pred))"
   ]
  },
  {
   "cell_type": "code",
   "execution_count": 8,
   "metadata": {},
   "outputs": [
    {
     "name": "stdout",
     "output_type": "stream",
     "text": [
      "C=2, kernel='rbf', gamma='scale'\n",
      "0.9007\n"
     ]
    }
   ],
   "source": [
    "svm = SVC(C=2, kernel='rbf', gamma='scale')\n",
    "svm.fit(X_train,y_train)\n",
    "# Predict\n",
    "y_pred = svm.predict(X_test)\n",
    "# Print result\n",
    "print(\"C=2, kernel='rbf', gamma='scale'\")\n",
    "print(accuracy_score(y_test, y_pred))"
   ]
  },
  {
   "cell_type": "code",
   "execution_count": 9,
   "metadata": {},
   "outputs": [
    {
     "name": "stdout",
     "output_type": "stream",
     "text": [
      "C=5, kernel='rbf', gamma='scale'\n",
      "0.9066\n"
     ]
    }
   ],
   "source": [
    "svm = SVC(C=5, kernel='rbf', gamma='scale')\n",
    "svm.fit(X_train,y_train)\n",
    "# Predict\n",
    "y_pred = svm.predict(X_test)\n",
    "# Print result\n",
    "print(\"C=5, kernel='rbf', gamma='scale'\")\n",
    "print(accuracy_score(y_test, y_pred))"
   ]
  },
  {
   "cell_type": "code",
   "execution_count": 10,
   "metadata": {},
   "outputs": [
    {
     "name": "stdout",
     "output_type": "stream",
     "text": [
      "C=10, kernel='rbf', gamma='scale'\n",
      "0.9083\n"
     ]
    }
   ],
   "source": [
    "svm = SVC(C=10, kernel='rbf', gamma='scale')\n",
    "svm.fit(X_train,y_train)\n",
    "# Predict\n",
    "y_pred = svm.predict(X_test)\n",
    "# Print result\n",
    "print(\"C=10, kernel='rbf', gamma='scale'\")\n",
    "print(accuracy_score(y_test, y_pred))"
   ]
  },
  {
   "cell_type": "code",
   "execution_count": 11,
   "metadata": {},
   "outputs": [
    {
     "name": "stdout",
     "output_type": "stream",
     "text": [
      "C=15, kernel='rbf', gamma='scale'\n",
      "0.909\n"
     ]
    }
   ],
   "source": [
    "svm = SVC(C=15, kernel='rbf', gamma='scale')\n",
    "svm.fit(X_train,y_train)\n",
    "# Predict\n",
    "y_pred = svm.predict(X_test)\n",
    "# Print result\n",
    "print(\"C=15, kernel='rbf', gamma='scale'\")\n",
    "print(accuracy_score(y_test, y_pred))"
   ]
  },
  {
   "cell_type": "code",
   "execution_count": 12,
   "metadata": {},
   "outputs": [
    {
     "name": "stdout",
     "output_type": "stream",
     "text": [
      "C=20, kernel='rbf', gamma='scale'\n",
      "0.909\n"
     ]
    }
   ],
   "source": [
    "svm = SVC(C=20, kernel='rbf', gamma='scale')\n",
    "svm.fit(X_train,y_train)\n",
    "# Predict\n",
    "y_pred = svm.predict(X_test)\n",
    "# Print result\n",
    "print(\"C=20, kernel='rbf', gamma='scale'\")\n",
    "print(accuracy_score(y_test, y_pred))"
   ]
  },
  {
   "cell_type": "code",
   "execution_count": 13,
   "metadata": {},
   "outputs": [
    {
     "name": "stdout",
     "output_type": "stream",
     "text": [
      "C=25, kernel='rbf', gamma='scale'\n",
      "0.9087\n"
     ]
    }
   ],
   "source": [
    "svm = SVC(C=25, kernel='rbf', gamma='scale')\n",
    "svm.fit(X_train,y_train)\n",
    "# Predict\n",
    "y_pred = svm.predict(X_test)\n",
    "# Print result\n",
    "print(\"C=25, kernel='rbf', gamma='scale'\")\n",
    "print(accuracy_score(y_test, y_pred))"
   ]
  },
  {
   "cell_type": "code",
   "execution_count": 14,
   "metadata": {},
   "outputs": [
    {
     "name": "stdout",
     "output_type": "stream",
     "text": [
      "C=30, kernel='rbf', gamma='scale'\n",
      "0.9085\n"
     ]
    }
   ],
   "source": [
    "svm = SVC(C=30, kernel='rbf', gamma='scale')\n",
    "svm.fit(X_train,y_train)\n",
    "# Predict\n",
    "y_pred = svm.predict(X_test)\n",
    "# Print result\n",
    "print(\"C=30, kernel='rbf', gamma='scale'\")\n",
    "print(accuracy_score(y_test, y_pred))"
   ]
  },
  {
   "cell_type": "code",
   "execution_count": 15,
   "metadata": {},
   "outputs": [
    {
     "name": "stdout",
     "output_type": "stream",
     "text": [
      "C=35, kernel='rbf', gamma='scale'\n",
      "0.9075\n"
     ]
    }
   ],
   "source": [
    "svm = SVC(C=35, kernel='rbf', gamma='scale')\n",
    "svm.fit(X_train,y_train)\n",
    "# Predict\n",
    "y_pred = svm.predict(X_test)\n",
    "# Print result\n",
    "print(\"C=35, kernel='rbf', gamma='scale'\")\n",
    "print(accuracy_score(y_test, y_pred))"
   ]
  },
  {
   "cell_type": "code",
   "execution_count": 16,
   "metadata": {},
   "outputs": [
    {
     "name": "stdout",
     "output_type": "stream",
     "text": [
      "C=40, kernel='rbf', gamma='scale'\n",
      "0.9065\n"
     ]
    }
   ],
   "source": [
    "svm = SVC(C=40, kernel='rbf', gamma='scale')\n",
    "svm.fit(X_train,y_train)\n",
    "# Predict\n",
    "y_pred = svm.predict(X_test)\n",
    "# Print result\n",
    "print(\"C=40, kernel='rbf', gamma='scale'\")\n",
    "print(accuracy_score(y_test, y_pred))"
   ]
  },
  {
   "cell_type": "code",
   "execution_count": 17,
   "metadata": {},
   "outputs": [
    {
     "name": "stdout",
     "output_type": "stream",
     "text": [
      "C=50, kernel='rbf', gamma='scale'\n",
      "0.907\n"
     ]
    }
   ],
   "source": [
    "svm = SVC(C=50, kernel='rbf', gamma='scale')\n",
    "svm.fit(X_train,y_train)\n",
    "# Predict\n",
    "y_pred = svm.predict(X_test)\n",
    "# Print result\n",
    "print(\"C=50, kernel='rbf', gamma='scale'\")\n",
    "print(accuracy_score(y_test, y_pred))"
   ]
  },
  {
   "cell_type": "code",
   "execution_count": 18,
   "metadata": {},
   "outputs": [
    {
     "name": "stdout",
     "output_type": "stream",
     "text": [
      "C=70, kernel='rbf', gamma='scale'\n",
      "0.9073\n"
     ]
    }
   ],
   "source": [
    "svm = SVC(C=70, kernel='rbf', gamma='scale')\n",
    "svm.fit(X_train,y_train)\n",
    "# Predict\n",
    "y_pred = svm.predict(X_test)\n",
    "# Print result\n",
    "print(\"C=70, kernel='rbf', gamma='scale'\")\n",
    "print(accuracy_score(y_test, y_pred))"
   ]
  },
  {
   "cell_type": "code",
   "execution_count": 19,
   "metadata": {},
   "outputs": [
    {
     "name": "stdout",
     "output_type": "stream",
     "text": [
      "C=100, kernel='rbf', gamma='scale'\n",
      "0.9056\n"
     ]
    }
   ],
   "source": [
    "svm = SVC(C=100, kernel='rbf', gamma='scale')\n",
    "svm.fit(X_train,y_train)\n",
    "# Predict\n",
    "y_pred = svm.predict(X_test)\n",
    "# Print result\n",
    "print(\"C=100, kernel='rbf', gamma='scale'\")\n",
    "print(accuracy_score(y_test, y_pred))"
   ]
  },
  {
   "cell_type": "markdown",
   "metadata": {},
   "source": [
    "Tuning gamma"
   ]
  },
  {
   "cell_type": "code",
   "execution_count": 20,
   "metadata": {},
   "outputs": [
    {
     "name": "stdout",
     "output_type": "stream",
     "text": [
      "C=15, kernel='rbf', gamma='scale'\n",
      "0.909\n"
     ]
    }
   ],
   "source": [
    "svm = SVC(C=15, kernel='rbf', gamma='scale')\n",
    "svm.fit(X_train,y_train)\n",
    "# Predict\n",
    "y_pred = svm.predict(X_test)\n",
    "# Print result\n",
    "print(\"C=15, kernel='rbf', gamma='scale'\")\n",
    "print(accuracy_score(y_test, y_pred))"
   ]
  },
  {
   "cell_type": "code",
   "execution_count": 5,
   "metadata": {},
   "outputs": [
    {
     "name": "stdout",
     "output_type": "stream",
     "text": [
      "C=15, kernel='rbf', gamma='auto'\n",
      "0.1015\n"
     ]
    }
   ],
   "source": [
    "svm = SVC(C=15, kernel='rbf', gamma='auto')\n",
    "svm.fit(X_train,y_train)\n",
    "# Predict\n",
    "y_pred = svm.predict(X_test)\n",
    "# Print result\n",
    "print(\"C=15, kernel='rbf', gamma='auto'\")\n",
    "print(accuracy_score(y_test, y_pred))"
   ]
  },
  {
   "cell_type": "markdown",
   "metadata": {},
   "source": [
    "Tuning kernel"
   ]
  },
  {
   "cell_type": "code",
   "execution_count": 8,
   "metadata": {},
   "outputs": [
    {
     "name": "stdout",
     "output_type": "stream",
     "text": [
      "C=15, kernel='rbf', gamma='scale'\n",
      "0.909\n"
     ]
    }
   ],
   "source": [
    "svm = SVC(C=15, kernel='rbf', gamma='scale')\n",
    "svm.fit(X_train,y_train)\n",
    "# Predict\n",
    "y_pred = svm.predict(X_test)\n",
    "# Print result\n",
    "print(\"C=15, kernel='rbf', gamma='scale'\")\n",
    "print(accuracy_score(y_test, y_pred))"
   ]
  },
  {
   "cell_type": "code",
   "execution_count": null,
   "metadata": {},
   "outputs": [],
   "source": [
    "svm = SVC(C=15, kernel='linear', gamma='scale')\n",
    "svm.fit(X_train,y_train)\n",
    "# Predict\n",
    "y_pred = svm.predict(X_test)\n",
    "# Print result\n",
    "print(\"C=15, kernel='rbf', gamma='scale'\")\n",
    "print(accuracy_score(y_test, y_pred))"
   ]
  },
  {
   "cell_type": "code",
   "execution_count": null,
   "metadata": {},
   "outputs": [],
   "source": [
    "svm = SVC(C=15, kernel='poly', gamma='scale')\n",
    "svm.fit(X_train,y_train)\n",
    "# Predict\n",
    "y_pred = svm.predict(X_test)\n",
    "# Print result\n",
    "print(\"C=15, kernel='rbf', gamma='scale'\")\n",
    "print(accuracy_score(y_test, y_pred))"
   ]
  },
  {
   "cell_type": "code",
   "execution_count": null,
   "metadata": {},
   "outputs": [],
   "source": [
    "svm = SVC(C=15, kernel='sigmoid', gamma='scale')\n",
    "svm.fit(X_train,y_train)\n",
    "# Predict\n",
    "y_pred = svm.predict(X_test)\n",
    "# Print result\n",
    "print(\"C=15, kernel='rbf', gamma='scale'\")\n",
    "print(accuracy_score(y_test, y_pred))"
   ]
  },
  {
   "cell_type": "code",
   "execution_count": null,
   "metadata": {},
   "outputs": [],
   "source": [
    "svm = SVC(C=15, kernel='precomputed', gamma='scale')\n",
    "svm.fit(X_train,y_train)\n",
    "# Predict\n",
    "y_pred = svm.predict(X_test)\n",
    "# Print result\n",
    "print(\"C=15, kernel='rbf', gamma='scale'\")\n",
    "print(accuracy_score(y_test, y_pred))"
   ]
  },
  {
   "cell_type": "markdown",
   "metadata": {},
   "source": [
    "Tuning polynomial degree"
   ]
  },
  {
   "cell_type": "code",
   "execution_count": null,
   "metadata": {},
   "outputs": [],
   "source": [
    "svm = SVC(C=15, kernel='poly',degree=1 gamma='scale')\n",
    "svm.fit(X_train,y_train)\n",
    "# Predict\n",
    "y_pred = svm.predict(X_test)\n",
    "# Print result\n",
    "print(\"C=15, kernel='rbf', gamma='scale'\")\n",
    "print(accuracy_score(y_test, y_pred))"
   ]
  },
  {
   "cell_type": "code",
   "execution_count": null,
   "metadata": {},
   "outputs": [],
   "source": [
    "svm = SVC(C=15, kernel='poly',degree=2 gamma='scale')\n",
    "svm.fit(X_train,y_train)\n",
    "# Predict\n",
    "y_pred = svm.predict(X_test)\n",
    "# Print result\n",
    "print(\"C=15, kernel='rbf', gamma='scale'\")\n",
    "print(accuracy_score(y_test, y_pred))"
   ]
  },
  {
   "cell_type": "code",
   "execution_count": null,
   "metadata": {},
   "outputs": [],
   "source": [
    "svm = SVC(C=15, kernel='poly',degree=3 gamma='scale')\n",
    "svm.fit(X_train,y_train)\n",
    "# Predict\n",
    "y_pred = svm.predict(X_test)\n",
    "# Print result\n",
    "print(\"C=15, kernel='rbf', gamma='scale'\")\n",
    "print(accuracy_score(y_test, y_pred))"
   ]
  },
  {
   "cell_type": "code",
   "execution_count": null,
   "metadata": {},
   "outputs": [],
   "source": [
    "svm = SVC(C=15, kernel='poly',degree=4 gamma='scale')\n",
    "svm.fit(X_train,y_train)\n",
    "# Predict\n",
    "y_pred = svm.predict(X_test)\n",
    "# Print result\n",
    "print(\"C=15, kernel='rbf', gamma='scale'\")\n",
    "print(accuracy_score(y_test, y_pred))"
   ]
  },
  {
   "cell_type": "code",
   "execution_count": null,
   "metadata": {},
   "outputs": [],
   "source": [
    "svm = SVC(C=15, kernel='poly',degree=5 gamma='scale')\n",
    "svm.fit(X_train,y_train)\n",
    "# Predict\n",
    "y_pred = svm.predict(X_test)\n",
    "# Print result\n",
    "print(\"C=15, kernel='rbf', gamma='scale'\")\n",
    "print(accuracy_score(y_test, y_pred))"
   ]
  },
  {
   "cell_type": "code",
   "execution_count": null,
   "metadata": {},
   "outputs": [],
   "source": [
    "svm = SVC(C=15, kernel='poly',degree=6 gamma='scale')\n",
    "svm.fit(X_train,y_train)\n",
    "# Predict\n",
    "y_pred = svm.predict(X_test)\n",
    "# Print result\n",
    "print(\"C=15, kernel='rbf', gamma='scale'\")\n",
    "print(accuracy_score(y_test, y_pred))"
   ]
  },
  {
   "cell_type": "code",
   "execution_count": null,
   "metadata": {},
   "outputs": [],
   "source": [
    "svm = SVC(C=15, kernel='poly',degree=7 gamma='scale')\n",
    "svm.fit(X_train,y_train)\n",
    "# Predict\n",
    "y_pred = svm.predict(X_test)\n",
    "# Print result\n",
    "print(\"C=15, kernel='rbf', gamma='scale'\")\n",
    "print(accuracy_score(y_test, y_pred))"
   ]
  },
  {
   "cell_type": "code",
   "execution_count": null,
   "metadata": {},
   "outputs": [],
   "source": [
    "svm = SVC(C=15, kernel='poly',degree=8 gamma='scale')\n",
    "svm.fit(X_train,y_train)\n",
    "# Predict\n",
    "y_pred = svm.predict(X_test)\n",
    "# Print result\n",
    "print(\"C=15, kernel='rbf', gamma='scale'\")\n",
    "print(accuracy_score(y_test, y_pred))"
   ]
  },
  {
   "cell_type": "code",
   "execution_count": null,
   "metadata": {},
   "outputs": [],
   "source": [
    "svm = SVC(C=15, kernel='poly',degree=9 gamma='scale')\n",
    "svm.fit(X_train,y_train)\n",
    "# Predict\n",
    "y_pred = svm.predict(X_test)\n",
    "# Print result\n",
    "print(\"C=15, kernel='rbf', gamma='scale'\")\n",
    "print(accuracy_score(y_test, y_pred))"
   ]
  },
  {
   "cell_type": "code",
   "execution_count": null,
   "metadata": {},
   "outputs": [],
   "source": [
    "svm = SVC(C=15, kernel='poly',degree=10 gamma='scale')\n",
    "svm.fit(X_train,y_train)\n",
    "# Predict\n",
    "y_pred = svm.predict(X_test)\n",
    "# Print result\n",
    "print(\"C=15, kernel='rbf', gamma='scale'\")\n",
    "print(accuracy_score(y_test, y_pred))"
   ]
  },
  {
   "cell_type": "code",
   "execution_count": null,
   "metadata": {},
   "outputs": [],
   "source": []
  }
 ],
 "metadata": {
  "kernelspec": {
   "display_name": "Python 3",
   "language": "python",
   "name": "python3"
  },
  "language_info": {
   "codemirror_mode": {
    "name": "ipython",
    "version": 3
   },
   "file_extension": ".py",
   "mimetype": "text/x-python",
   "name": "python",
   "nbconvert_exporter": "python",
   "pygments_lexer": "ipython3",
   "version": "3.7.9"
  }
 },
 "nbformat": 4,
 "nbformat_minor": 4
}
